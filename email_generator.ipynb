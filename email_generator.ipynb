{
 "cells": [
  {
   "cell_type": "code",
   "execution_count": 1,
   "id": "5cff8753",
   "metadata": {},
   "outputs": [
    {
     "data": {
      "text/plain": [
       "True"
      ]
     },
     "execution_count": 1,
     "metadata": {},
     "output_type": "execute_result"
    }
   ],
   "source": [
    "import os\n",
    "from dotenv import load_dotenv\n",
    "\n",
    "load_dotenv()"
   ]
  },
  {
   "cell_type": "code",
   "execution_count": 2,
   "id": "a49c9bd0",
   "metadata": {},
   "outputs": [
    {
     "name": "stdout",
     "output_type": "stream",
     "text": [
      "The first person to land on the moon was Neil Armstrong. He stepped out of the lunar module Eagle and onto the moon's surface on July 20, 1969, during the Apollo 11 mission.\n"
     ]
    }
   ],
   "source": [
    "from langchain_groq import ChatGroq\n",
    "\n",
    "llm = ChatGroq(\n",
    "    temperature=0, \n",
    "    groq_api_key=os.getenv(\"GROQ_API_KEY\"), \n",
    "    model_name=\"llama-3.1-8b-instant\"\n",
    ")\n",
    "\n",
    "response = llm.invoke(\"The first person to land on moon was ...\")\n",
    "print(response.content)"
   ]
  },
  {
   "cell_type": "code",
   "execution_count": 14,
   "id": "8ffc6fd9",
   "metadata": {},
   "outputs": [],
   "source": [
    "from langchain_community.document_loaders import WebBaseLoader\n",
    "\n",
    "loader = WebBaseLoader(\"https://stripe.com/jobs/listing/software-engineering-new-grad/7176975/apply\")\n",
    "page_data = loader.load().pop().page_content"
   ]
  },
  {
   "cell_type": "code",
   "execution_count": 15,
   "id": "6d576b8b",
   "metadata": {},
   "outputs": [
    {
     "name": "stdout",
     "output_type": "stream",
     "text": [
      "content='```python\\nimport re\\nimport json\\n\\n# Scraped text\\ntext = \"\"\"\\nSoftware Engineering, New Grad\\nJobs\\nOur opportunity\\nLife at Stripe\\nBenefits\\nUniversity\\nSee open roles\\nOpen mobile navigation\\nJobs\\nOur opportunity\\nLife at Stripe\\nBenefits\\nUniversity\\nSee open roles\\nClose mobile navigation\\nRoles at Stripe\\nRole details\\nApplication\\nSoftware Engineering, New Grad\\n\"\"\"\\n\\n# Regular expression pattern to extract job postings\\npattern = r\"Software Engineering, New Grad(?:(?:\\\\n.*\\\\n)*?(?:Our opportunity|Life at Stripe|Benefits|University|See open roles|Close mobile navigation|Roles at Stripe|Role details|Application))\"\\n\\n# Find all job postings\\njob_postings = re.findall(pattern, text, re.DOTALL)\\n\\n# Initialize an empty list to store the extracted job postings\\njobs = []\\n\\n# Loop through each job posting\\nfor posting in job_postings:\\n    # Split the posting into lines\\n    lines = posting.split(\\'\\\\n\\')\\n    \\n    # Initialize an empty dictionary to store the extracted information\\n    job = {}\\n    \\n    # Extract the role\\n    role = lines[0].strip()\\n    job[\\'role\\'] = role\\n    \\n    # Extract the experience\\n    experience = \\'New Grad\\'\\n    job[\\'experience\\'] = experience\\n    \\n    # Extract the skills (not available in the text, assuming it\\'s not required)\\n    job[\\'skills\\'] = []\\n    \\n    # Extract the description\\n    description = \\'\\\\n\\'.join(lines[1:])\\n    job[\\'description\\'] = description\\n    \\n    # Add the job to the list\\n    jobs.append(job)\\n\\n# Print the extracted job postings in JSON format\\nprint(json.dumps(jobs, indent=4))\\n```\\n\\nThis script will output the following JSON:\\n\\n```json\\n[\\n    {\\n        \"role\": \"Software Engineering, New Grad\",\\n        \"experience\": \"New Grad\",\\n        \"skills\": [],\\n        \"description\": \"Jobs\\\\nOur opportunity\\\\nLife at Stripe\\\\nBenefits\\\\nUniversity\\\\nSee open roles\\\\nOpen mobile navigation\\\\nJobs\\\\nOur opportunity\\\\nLife at Stripe\\\\nBenefits\\\\nUniversity\\\\nSee open roles\\\\nClose mobile navigation\\\\nRoles at Stripe\\\\nRole details\\\\nApplication\"\\n    }\\n]\\n```' additional_kwargs={} response_metadata={'token_usage': {'completion_tokens': 453, 'prompt_tokens': 214, 'total_tokens': 667, 'completion_time': 0.560031048, 'prompt_time': 0.016303361, 'queue_time': 0.051210639, 'total_time': 0.576334409}, 'model_name': 'llama-3.1-8b-instant', 'system_fingerprint': 'fp_55d70a61e4', 'service_tier': 'on_demand', 'finish_reason': 'stop', 'logprobs': None} id='run--cf7ae76c-9f81-4345-8f55-3131f3455a0f-0' usage_metadata={'input_tokens': 214, 'output_tokens': 453, 'total_tokens': 667}\n"
     ]
    }
   ],
   "source": [
    "from langchain_core.prompts import PromptTemplate\n",
    "\n",
    "prompt_extract = PromptTemplate.from_template(\n",
    "        \"\"\"\n",
    "        ### SCRAPED TEXT FROM WEBSITE:\n",
    "        {page_data}\n",
    "        ### INSTRUCTION:\n",
    "        The scraped text is from the career's page of a website.\n",
    "        Your job is to extract the job postings and return them in JSON format containing the \n",
    "        following keys: `role`, `experience`, `skills` and `description`.\n",
    "        Only return the valid JSON.\n",
    "        ### VALID JSON (NO PREAMBLE):    \n",
    "        \"\"\"\n",
    ")\n",
    "\n",
    "chain_extract = prompt_extract | llm \n",
    "res = chain_extract.invoke(input={'page_data':page_data})\n",
    "type(res.content)\n",
    "print(res)"
   ]
  }
 ],
 "metadata": {
  "kernelspec": {
   "display_name": ".venv",
   "language": "python",
   "name": "python3"
  },
  "language_info": {
   "codemirror_mode": {
    "name": "ipython",
    "version": 3
   },
   "file_extension": ".py",
   "mimetype": "text/x-python",
   "name": "python",
   "nbconvert_exporter": "python",
   "pygments_lexer": "ipython3",
   "version": "3.11.9"
  }
 },
 "nbformat": 4,
 "nbformat_minor": 5
}
